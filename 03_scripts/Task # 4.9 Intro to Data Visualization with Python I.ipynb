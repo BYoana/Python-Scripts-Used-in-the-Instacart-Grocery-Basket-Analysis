{
 "cells": [
  {
   "cell_type": "markdown",
   "id": "literary-renaissance",
   "metadata": {},
   "source": [
    "# Contents\n",
    "1. Importing libraries\n",
    "2. Importing a dataset\n",
    "3. Bar charts\n",
    "- sorting the chart\n",
    "- adding color to the chart\n",
    "- savin the chart\n",
    "4. Histograms and scatterplots\n",
    "5. Creating line charts/ sampling data"
   ]
  },
  {
   "cell_type": "markdown",
   "id": "perfect-indian",
   "metadata": {},
   "source": [
    "# Importing Libraries"
   ]
  },
  {
   "cell_type": "code",
   "execution_count": 1,
   "id": "electrical-personality",
   "metadata": {},
   "outputs": [],
   "source": [
    "import pandas as pd\n",
    "import numpy as np\n",
    "import os\n",
    "import matplotlib.pyplot as plt\n",
    "import seaborn as sns\n",
    "import scipy\n",
    "import warnings\n",
    "warnings.filterwarnings('ignore')"
   ]
  },
  {
   "cell_type": "code",
   "execution_count": 2,
   "id": "signal-sitting",
   "metadata": {},
   "outputs": [],
   "source": [
    "# Import the merged pickle dataset\n",
    "ords_prods_merge = pd.read_pickle(r'C:\\Users\\TemporaryAdmin\\Desktop\\yoana_learning\\Data Analytics\\Immension\\tasks\\my_tasks\\part_4\\02_data\\prepared_data\\orders_products_merged_grouping_aggregated.pkl')"
   ]
  },
  {
   "cell_type": "markdown",
   "id": "prepared-spending",
   "metadata": {},
   "source": [
    "# Bar Charts"
   ]
  },
  {
   "cell_type": "code",
   "execution_count": 3,
   "id": "atlantic-variation",
   "metadata": {},
   "outputs": [
    {
     "data": {
      "text/plain": [
       "<AxesSubplot:>"
      ]
     },
     "execution_count": 3,
     "metadata": {},
     "output_type": "execute_result"
    },
    {
     "data": {
      "image/png": "[encoded data removed]",
      "text/plain": [
       "<Figure size 432x288 with 1 Axes>"
      ]
     },
     "metadata": {
      "needs_background": "light"
     },
     "output_type": "display_data"
    }
   ],
   "source": [
    "# Creating a bar chart for the days of the week. \n",
    "ords_prods_merge['orders_day_of_week'].value_counts().plot.bar()"
   ]
  },
  {
   "cell_type": "code",
   "execution_count": 4,
   "id": "quiet-claim",
   "metadata": {},
   "outputs": [
    {
     "data": {
      "text/plain": [
       "<AxesSubplot:>"
      ]
     },
     "execution_count": 4,
     "metadata": {},
     "output_type": "execute_result"
    },
    {
     "data": {
      "image/png": "[encoded data removed]",
      "text/plain": [
       "<Figure size 432x288 with 1 Axes>"
      ]
     },
     "metadata": {
      "needs_background": "light"
     },
     "output_type": "display_data"
    }
   ],
   "source": [
    "# Sorting ascending \n",
    "ords_prods_merge['orders_day_of_week'].value_counts().sort_index().plot.bar()"
   ]
  },
  {
   "cell_type": "code",
   "execution_count": 5,
   "id": "embedded-commission",
   "metadata": {},
   "outputs": [
    {
     "data": {
      "text/plain": [
       "0    6252941\n",
       "1    5696724\n",
       "6    4530304\n",
       "2    4243173\n",
       "5    4236989\n",
       "3    3868747\n",
       "4    3812390\n",
       "Name: orders_day_of_week, dtype: int64"
      ]
     },
     "execution_count": 5,
     "metadata": {},
     "output_type": "execute_result"
    }
   ],
   "source": [
    "ords_prods_merge['orders_day_of_week'].value_counts()"
   ]
  },
  {
   "cell_type": "code",
   "execution_count": 6,
   "id": "composed-superintendent",
   "metadata": {},
   "outputs": [
    {
     "data": {
      "text/plain": [
       "0    6252941\n",
       "1    5696724\n",
       "2    4243173\n",
       "3    3868747\n",
       "4    3812390\n",
       "5    4236989\n",
       "6    4530304\n",
       "Name: orders_day_of_week, dtype: int64"
      ]
     },
     "execution_count": 6,
     "metadata": {},
     "output_type": "execute_result"
    }
   ],
   "source": [
    "ords_prods_merge['orders_day_of_week'].value_counts().sort_index()"
   ]
  },
  {
   "cell_type": "code",
   "execution_count": 7,
   "id": "defensive-occupation",
   "metadata": {},
   "outputs": [
    {
     "data": {
      "text/plain": [
       "<AxesSubplot:>"
      ]
     },
     "execution_count": 7,
     "metadata": {},
     "output_type": "execute_result"
    },
    {
     "data": {
      "image/png": "[encoded data removed]",
      "text/plain": [
       "<Figure size 432x288 with 1 Axes>"
      ]
     },
     "metadata": {
      "needs_background": "light"
     },
     "output_type": "display_data"
    }
   ],
   "source": [
    "# Adding color to the bars\n",
    "ords_prods_merge['orders_day_of_week'].value_counts().plot.bar(color= ['blue', 'green', 'grey', 'orange', 'brown', 'yellow', 'red'])"
   ]
  },
  {
   "cell_type": "code",
   "execution_count": 8,
   "id": "mental-nerve",
   "metadata": {},
   "outputs": [
    {
     "data": {
      "text/plain": [
       "<AxesSubplot:>"
      ]
     },
     "execution_count": 8,
     "metadata": {},
     "output_type": "execute_result"
    },
    {
     "data": {
      "image/png": "[encoded data removed]",
      "text/plain": [
       "<Figure size 432x288 with 1 Axes>"
      ]
     },
     "metadata": {
      "needs_background": "light"
     },
     "output_type": "display_data"
    }
   ],
   "source": [
    "# Adding color to the bars\n",
    "ords_prods_merge['orders_day_of_week'].value_counts().plot.bar(color= ['lightblue'])"
   ]
  },
  {
   "cell_type": "code",
   "execution_count": 9,
   "id": "revolutionary-south",
   "metadata": {},
   "outputs": [
    {
     "data": {
      "image/png": "[encoded data removed]",
      "text/plain": [
       "<Figure size 432x288 with 1 Axes>"
      ]
     },
     "metadata": {
      "needs_background": "light"
     },
     "output_type": "display_data"
    }
   ],
   "source": [
    "bar = ords_prods_merge['orders_day_of_week'].value_counts().plot.bar(color= ['grey'])"
   ]
  },
  {
   "cell_type": "code",
   "execution_count": 10,
   "id": "elder-commonwealth",
   "metadata": {},
   "outputs": [
    {
     "data": {
      "image/png": "[encoded data removed]",
      "text/plain": [
       "<Figure size 432x288 with 1 Axes>"
      ]
     },
     "execution_count": 10,
     "metadata": {},
     "output_type": "execute_result"
    }
   ],
   "source": [
    "bar.figure"
   ]
  },
  {
   "cell_type": "code",
   "execution_count": 11,
   "id": "apparent-speaking",
   "metadata": {},
   "outputs": [],
   "source": [
    "# Defining the path\n",
    "path= r'C:\\Users\\TemporaryAdmin\\Desktop\\yoana_learning\\Data Analytics\\Immension\\tasks\\my_tasks\\part_4'"
   ]
  },
  {
   "cell_type": "code",
   "execution_count": 12,
   "id": "exciting-exclusion",
   "metadata": {},
   "outputs": [
    {
     "data": {
      "text/plain": [
       "'C:\\\\Users\\\\TemporaryAdmin\\\\Desktop\\\\yoana_learning\\\\Data Analytics\\\\Immension\\\\tasks\\\\my_tasks\\\\part_4'"
      ]
     },
     "execution_count": 12,
     "metadata": {},
     "output_type": "execute_result"
    }
   ],
   "source": [
    "path"
   ]
  },
  {
   "cell_type": "code",
   "execution_count": 13,
   "id": "imported-external",
   "metadata": {},
   "outputs": [],
   "source": [
    "# Saving the bar chart locally on the computer\n",
    "bar.figure.savefig(os.path.join(path, '04_analysis' , 'visualisations' , 'bar_orders_dow.png'))"
   ]
  },
  {
   "cell_type": "markdown",
   "id": "major-respect",
   "metadata": {},
   "source": [
    "# Histograms and Scatterplots"
   ]
  },
  {
   "cell_type": "code",
   "execution_count": 14,
   "id": "representative-actress",
   "metadata": {},
   "outputs": [
    {
     "data": {
      "text/plain": [
       "<AxesSubplot:ylabel='Frequency'>"
      ]
     },
     "execution_count": 14,
     "metadata": {},
     "output_type": "execute_result"
    },
    {
     "data": {
      "image/png": "[encoded data removed]",
      "text/plain": [
       "<Figure size 432x288 with 1 Axes>"
      ]
     },
     "metadata": {
      "needs_background": "light"
     },
     "output_type": "display_data"
    }
   ],
   "source": [
    "# Creating a histogram for the price column\n",
    "ords_prods_merge['prices'].plot.hist(bins = 25)"
   ]
  },
  {
   "cell_type": "code",
   "execution_count": 15,
   "id": "comparable-sodium",
   "metadata": {},
   "outputs": [
    {
     "data": {
      "text/plain": [
       "count    3.240486e+07\n",
       "mean     1.198023e+01\n",
       "std      4.956554e+02\n",
       "min      1.000000e+00\n",
       "25%      4.200000e+00\n",
       "50%      7.400000e+00\n",
       "75%      1.130000e+01\n",
       "max      9.999900e+04\n",
       "Name: prices, dtype: float64"
      ]
     },
     "execution_count": 15,
     "metadata": {},
     "output_type": "execute_result"
    }
   ],
   "source": [
    "# Checking the data\n",
    "ords_prods_merge['prices'].describe()"
   ]
  },
  {
   "cell_type": "code",
   "execution_count": 16,
   "id": "strange-budapest",
   "metadata": {},
   "outputs": [
    {
     "data": {
      "text/plain": [
       "11.980225638676366"
      ]
     },
     "execution_count": 16,
     "metadata": {},
     "output_type": "execute_result"
    }
   ],
   "source": [
    "ords_prods_merge['prices'].mean()"
   ]
  },
  {
   "cell_type": "code",
   "execution_count": 17,
   "id": "relevant-firewall",
   "metadata": {},
   "outputs": [
    {
     "data": {
      "text/plain": [
       "7.4"
      ]
     },
     "execution_count": 17,
     "metadata": {},
     "output_type": "execute_result"
    }
   ],
   "source": [
    "ords_prods_merge['prices'].median()"
   ]
  },
  {
   "cell_type": "code",
   "execution_count": 18,
   "id": "physical-brain",
   "metadata": {},
   "outputs": [
    {
     "data": {
      "text/plain": [
       "99999.0"
      ]
     },
     "execution_count": 18,
     "metadata": {},
     "output_type": "execute_result"
    }
   ],
   "source": [
    "ords_prods_merge['prices'].max()"
   ]
  },
  {
   "cell_type": "markdown",
   "id": "iraqi-category",
   "metadata": {},
   "source": [
    "# Scatterplot"
   ]
  },
  {
   "cell_type": "code",
   "execution_count": 19,
   "id": "demographic-cyprus",
   "metadata": {},
   "outputs": [
    {
     "data": {
      "text/plain": [
       "<AxesSubplot:xlabel='prices', ylabel='prices'>"
      ]
     },
     "execution_count": 19,
     "metadata": {},
     "output_type": "execute_result"
    },
    {
     "data": {
      "image/png": "[encoded data removed]",
      "text/plain": [
       "<Figure size 432x288 with 1 Axes>"
      ]
     },
     "metadata": {
      "needs_background": "light"
     },
     "output_type": "display_data"
    }
   ],
   "source": [
    "# Create a scatterplot\n",
    "sns.scatterplot(x = 'prices', y = 'prices',data = ords_prods_merge)"
   ]
  },
  {
   "cell_type": "code",
   "execution_count": 20,
   "id": "prepared-longitude",
   "metadata": {},
   "outputs": [
    {
     "data": {
      "text/html": [
       "<div>\n",
       "<style scoped>\n",
       "    .dataframe tbody tr th:only-of-type {\n",
       "        vertical-align: middle;\n",
       "    }\n",
       "\n",
       "    .dataframe tbody tr th {\n",
       "        vertical-align: top;\n",
       "    }\n",
       "\n",
       "    .dataframe thead th {\n",
       "        text-align: right;\n",
       "    }\n",
       "</style>\n",
       "<table border=\"1\" class=\"dataframe\">\n",
       "  <thead>\n",
       "    <tr style=\"text-align: right;\">\n",
       "      <th></th>\n",
       "      <th>Unnamed: 0_x</th>\n",
       "      <th>Unnamed: 0.1</th>\n",
       "      <th>order_id</th>\n",
       "      <th>user_id</th>\n",
       "      <th>eval_set</th>\n",
       "      <th>order_number</th>\n",
       "      <th>orders_day_of_week</th>\n",
       "      <th>order_hour_of_day</th>\n",
       "      <th>days_since_prior_order</th>\n",
       "      <th>first_order</th>\n",
       "      <th>...</th>\n",
       "      <th>price_range_loc</th>\n",
       "      <th>busiest_day</th>\n",
       "      <th>busiest_day_updated</th>\n",
       "      <th>busiest_period_of_day</th>\n",
       "      <th>max_order</th>\n",
       "      <th>loyalty_flag</th>\n",
       "      <th>average_spent</th>\n",
       "      <th>spent_flag</th>\n",
       "      <th>regularity</th>\n",
       "      <th>regularity_shopping</th>\n",
       "    </tr>\n",
       "  </thead>\n",
       "  <tbody>\n",
       "    <tr>\n",
       "      <th>1592</th>\n",
       "      <td>171</td>\n",
       "      <td>171</td>\n",
       "      <td>912404</td>\n",
       "      <td>17</td>\n",
       "      <td>prior</td>\n",
       "      <td>12</td>\n",
       "      <td>2</td>\n",
       "      <td>14</td>\n",
       "      <td>5.0</td>\n",
       "      <td>False</td>\n",
       "      <td>...</td>\n",
       "      <td>High-range product</td>\n",
       "      <td>Regularly busy</td>\n",
       "      <td>Regularly busy</td>\n",
       "      <td>most_orders</td>\n",
       "      <td>41</td>\n",
       "      <td>Loyal customer</td>\n",
       "      <td>108.648299</td>\n",
       "      <td>High Spender</td>\n",
       "      <td>5.0</td>\n",
       "      <td>Regular customer</td>\n",
       "    </tr>\n",
       "    <tr>\n",
       "      <th>1654</th>\n",
       "      <td>181</td>\n",
       "      <td>181</td>\n",
       "      <td>603376</td>\n",
       "      <td>17</td>\n",
       "      <td>prior</td>\n",
       "      <td>22</td>\n",
       "      <td>6</td>\n",
       "      <td>16</td>\n",
       "      <td>4.0</td>\n",
       "      <td>False</td>\n",
       "      <td>...</td>\n",
       "      <td>High-range product</td>\n",
       "      <td>Regularly busy</td>\n",
       "      <td>Regularly busy</td>\n",
       "      <td>fewest_orders</td>\n",
       "      <td>41</td>\n",
       "      <td>Loyal customer</td>\n",
       "      <td>108.648299</td>\n",
       "      <td>High Spender</td>\n",
       "      <td>5.0</td>\n",
       "      <td>Regular customer</td>\n",
       "    </tr>\n",
       "    <tr>\n",
       "      <th>16668</th>\n",
       "      <td>1944</td>\n",
       "      <td>1944</td>\n",
       "      <td>3264360</td>\n",
       "      <td>135</td>\n",
       "      <td>prior</td>\n",
       "      <td>2</td>\n",
       "      <td>2</td>\n",
       "      <td>21</td>\n",
       "      <td>13.0</td>\n",
       "      <td>False</td>\n",
       "      <td>...</td>\n",
       "      <td>High-range product</td>\n",
       "      <td>Regularly busy</td>\n",
       "      <td>Regularly busy</td>\n",
       "      <td>fewest_orders</td>\n",
       "      <td>5</td>\n",
       "      <td>New customer</td>\n",
       "      <td>1154.792308</td>\n",
       "      <td>High Spender</td>\n",
       "      <td>12.0</td>\n",
       "      <td>Regular customer</td>\n",
       "    </tr>\n",
       "    <tr>\n",
       "      <th>16674</th>\n",
       "      <td>1945</td>\n",
       "      <td>1945</td>\n",
       "      <td>892534</td>\n",
       "      <td>135</td>\n",
       "      <td>prior</td>\n",
       "      <td>3</td>\n",
       "      <td>0</td>\n",
       "      <td>8</td>\n",
       "      <td>12.0</td>\n",
       "      <td>False</td>\n",
       "      <td>...</td>\n",
       "      <td>High-range product</td>\n",
       "      <td>Busiest day</td>\n",
       "      <td>Busiest day</td>\n",
       "      <td>fewest_orders</td>\n",
       "      <td>5</td>\n",
       "      <td>New customer</td>\n",
       "      <td>1154.792308</td>\n",
       "      <td>High Spender</td>\n",
       "      <td>12.0</td>\n",
       "      <td>Regular customer</td>\n",
       "    </tr>\n",
       "    <tr>\n",
       "      <th>54053</th>\n",
       "      <td>5708</td>\n",
       "      <td>5708</td>\n",
       "      <td>229704</td>\n",
       "      <td>342</td>\n",
       "      <td>prior</td>\n",
       "      <td>8</td>\n",
       "      <td>1</td>\n",
       "      <td>19</td>\n",
       "      <td>30.0</td>\n",
       "      <td>False</td>\n",
       "      <td>...</td>\n",
       "      <td>High-range product</td>\n",
       "      <td>Regularly busy</td>\n",
       "      <td>Busiest day</td>\n",
       "      <td>fewest_orders</td>\n",
       "      <td>17</td>\n",
       "      <td>Regular customer</td>\n",
       "      <td>114.426619</td>\n",
       "      <td>High Spender</td>\n",
       "      <td>23.0</td>\n",
       "      <td>Regular customer</td>\n",
       "    </tr>\n",
       "    <tr>\n",
       "      <th>...</th>\n",
       "      <td>...</td>\n",
       "      <td>...</td>\n",
       "      <td>...</td>\n",
       "      <td>...</td>\n",
       "      <td>...</td>\n",
       "      <td>...</td>\n",
       "      <td>...</td>\n",
       "      <td>...</td>\n",
       "      <td>...</td>\n",
       "      <td>...</td>\n",
       "      <td>...</td>\n",
       "      <td>...</td>\n",
       "      <td>...</td>\n",
       "      <td>...</td>\n",
       "      <td>...</td>\n",
       "      <td>...</td>\n",
       "      <td>...</td>\n",
       "      <td>...</td>\n",
       "      <td>...</td>\n",
       "      <td>...</td>\n",
       "      <td>...</td>\n",
       "    </tr>\n",
       "    <tr>\n",
       "      <th>32556283</th>\n",
       "      <td>3411856</td>\n",
       "      <td>3411856</td>\n",
       "      <td>3172853</td>\n",
       "      <td>205650</td>\n",
       "      <td>prior</td>\n",
       "      <td>18</td>\n",
       "      <td>1</td>\n",
       "      <td>9</td>\n",
       "      <td>7.0</td>\n",
       "      <td>False</td>\n",
       "      <td>...</td>\n",
       "      <td>High-range product</td>\n",
       "      <td>Regularly busy</td>\n",
       "      <td>Busiest day</td>\n",
       "      <td>fewest_orders</td>\n",
       "      <td>26</td>\n",
       "      <td>Regular customer</td>\n",
       "      <td>351.141618</td>\n",
       "      <td>High Spender</td>\n",
       "      <td>6.0</td>\n",
       "      <td>Regular customer</td>\n",
       "    </tr>\n",
       "    <tr>\n",
       "      <th>32583684</th>\n",
       "      <td>3414691</td>\n",
       "      <td>3414691</td>\n",
       "      <td>2504315</td>\n",
       "      <td>205818</td>\n",
       "      <td>prior</td>\n",
       "      <td>3</td>\n",
       "      <td>5</td>\n",
       "      <td>15</td>\n",
       "      <td>3.0</td>\n",
       "      <td>False</td>\n",
       "      <td>...</td>\n",
       "      <td>High-range product</td>\n",
       "      <td>Regularly busy</td>\n",
       "      <td>Regularly busy</td>\n",
       "      <td>fewest_orders</td>\n",
       "      <td>26</td>\n",
       "      <td>Regular customer</td>\n",
       "      <td>170.073770</td>\n",
       "      <td>High Spender</td>\n",
       "      <td>12.0</td>\n",
       "      <td>Regular customer</td>\n",
       "    </tr>\n",
       "    <tr>\n",
       "      <th>32583694</th>\n",
       "      <td>3414693</td>\n",
       "      <td>3414693</td>\n",
       "      <td>1108388</td>\n",
       "      <td>205818</td>\n",
       "      <td>prior</td>\n",
       "      <td>5</td>\n",
       "      <td>4</td>\n",
       "      <td>5</td>\n",
       "      <td>1.0</td>\n",
       "      <td>False</td>\n",
       "      <td>...</td>\n",
       "      <td>High-range product</td>\n",
       "      <td>Least busy</td>\n",
       "      <td>Least busy</td>\n",
       "      <td>fewest_orders</td>\n",
       "      <td>26</td>\n",
       "      <td>Regular customer</td>\n",
       "      <td>170.073770</td>\n",
       "      <td>High Spender</td>\n",
       "      <td>12.0</td>\n",
       "      <td>Regular customer</td>\n",
       "    </tr>\n",
       "    <tr>\n",
       "      <th>32616755</th>\n",
       "      <td>3418470</td>\n",
       "      <td>3418470</td>\n",
       "      <td>1916142</td>\n",
       "      <td>206049</td>\n",
       "      <td>prior</td>\n",
       "      <td>1</td>\n",
       "      <td>2</td>\n",
       "      <td>17</td>\n",
       "      <td>NaN</td>\n",
       "      <td>True</td>\n",
       "      <td>...</td>\n",
       "      <td>High-range product</td>\n",
       "      <td>Regularly busy</td>\n",
       "      <td>Regularly busy</td>\n",
       "      <td>fewest_orders</td>\n",
       "      <td>6</td>\n",
       "      <td>New customer</td>\n",
       "      <td>938.031250</td>\n",
       "      <td>High Spender</td>\n",
       "      <td>7.0</td>\n",
       "      <td>Regular customer</td>\n",
       "    </tr>\n",
       "    <tr>\n",
       "      <th>32616779</th>\n",
       "      <td>3418473</td>\n",
       "      <td>3418473</td>\n",
       "      <td>379732</td>\n",
       "      <td>206049</td>\n",
       "      <td>prior</td>\n",
       "      <td>4</td>\n",
       "      <td>1</td>\n",
       "      <td>14</td>\n",
       "      <td>5.0</td>\n",
       "      <td>False</td>\n",
       "      <td>...</td>\n",
       "      <td>High-range product</td>\n",
       "      <td>Regularly busy</td>\n",
       "      <td>Busiest day</td>\n",
       "      <td>most_orders</td>\n",
       "      <td>6</td>\n",
       "      <td>New customer</td>\n",
       "      <td>938.031250</td>\n",
       "      <td>High Spender</td>\n",
       "      <td>7.0</td>\n",
       "      <td>Regular customer</td>\n",
       "    </tr>\n",
       "  </tbody>\n",
       "</table>\n",
       "<p>5127 rows × 30 columns</p>\n",
       "</div>"
      ],
      "text/plain": [
       "          Unnamed: 0_x  Unnamed: 0.1  order_id  user_id eval_set  \\\n",
       "1592               171           171    912404       17    prior   \n",
       "1654               181           181    603376       17    prior   \n",
       "16668             1944          1944   3264360      135    prior   \n",
       "16674             1945          1945    892534      135    prior   \n",
       "54053             5708          5708    229704      342    prior   \n",
       "...                ...           ...       ...      ...      ...   \n",
       "32556283       3411856       3411856   3172853   205650    prior   \n",
       "32583684       3414691       3414691   2504315   205818    prior   \n",
       "32583694       3414693       3414693   1108388   205818    prior   \n",
       "32616755       3418470       3418470   1916142   206049    prior   \n",
       "32616779       3418473       3418473    379732   206049    prior   \n",
       "\n",
       "          order_number  orders_day_of_week  order_hour_of_day  \\\n",
       "1592                12                   2                 14   \n",
       "1654                22                   6                 16   \n",
       "16668                2                   2                 21   \n",
       "16674                3                   0                  8   \n",
       "54053                8                   1                 19   \n",
       "...                ...                 ...                ...   \n",
       "32556283            18                   1                  9   \n",
       "32583684             3                   5                 15   \n",
       "32583694             5                   4                  5   \n",
       "32616755             1                   2                 17   \n",
       "32616779             4                   1                 14   \n",
       "\n",
       "          days_since_prior_order  first_order  ...     price_range_loc  \\\n",
       "1592                         5.0        False  ...  High-range product   \n",
       "1654                         4.0        False  ...  High-range product   \n",
       "16668                       13.0        False  ...  High-range product   \n",
       "16674                       12.0        False  ...  High-range product   \n",
       "54053                       30.0        False  ...  High-range product   \n",
       "...                          ...          ...  ...                 ...   \n",
       "32556283                     7.0        False  ...  High-range product   \n",
       "32583684                     3.0        False  ...  High-range product   \n",
       "32583694                     1.0        False  ...  High-range product   \n",
       "32616755                     NaN         True  ...  High-range product   \n",
       "32616779                     5.0        False  ...  High-range product   \n",
       "\n",
       "             busiest_day  busiest_day_updated busiest_period_of_day  \\\n",
       "1592      Regularly busy       Regularly busy           most_orders   \n",
       "1654      Regularly busy       Regularly busy         fewest_orders   \n",
       "16668     Regularly busy       Regularly busy         fewest_orders   \n",
       "16674        Busiest day          Busiest day         fewest_orders   \n",
       "54053     Regularly busy          Busiest day         fewest_orders   \n",
       "...                  ...                  ...                   ...   \n",
       "32556283  Regularly busy          Busiest day         fewest_orders   \n",
       "32583684  Regularly busy       Regularly busy         fewest_orders   \n",
       "32583694      Least busy           Least busy         fewest_orders   \n",
       "32616755  Regularly busy       Regularly busy         fewest_orders   \n",
       "32616779  Regularly busy          Busiest day           most_orders   \n",
       "\n",
       "          max_order      loyalty_flag  average_spent    spent_flag  \\\n",
       "1592             41    Loyal customer     108.648299  High Spender   \n",
       "1654             41    Loyal customer     108.648299  High Spender   \n",
       "16668             5      New customer    1154.792308  High Spender   \n",
       "16674             5      New customer    1154.792308  High Spender   \n",
       "54053            17  Regular customer     114.426619  High Spender   \n",
       "...             ...               ...            ...           ...   \n",
       "32556283         26  Regular customer     351.141618  High Spender   \n",
       "32583684         26  Regular customer     170.073770  High Spender   \n",
       "32583694         26  Regular customer     170.073770  High Spender   \n",
       "32616755          6      New customer     938.031250  High Spender   \n",
       "32616779          6      New customer     938.031250  High Spender   \n",
       "\n",
       "          regularity regularity_shopping  \n",
       "1592             5.0    Regular customer  \n",
       "1654             5.0    Regular customer  \n",
       "16668           12.0    Regular customer  \n",
       "16674           12.0    Regular customer  \n",
       "54053           23.0    Regular customer  \n",
       "...              ...                 ...  \n",
       "32556283         6.0    Regular customer  \n",
       "32583684        12.0    Regular customer  \n",
       "32583694        12.0    Regular customer  \n",
       "32616755         7.0    Regular customer  \n",
       "32616779         7.0    Regular customer  \n",
       "\n",
       "[5127 rows x 30 columns]"
      ]
     },
     "execution_count": 20,
     "metadata": {},
     "output_type": "execute_result"
    }
   ],
   "source": [
    "# Identifying outliers\n",
    "ords_prods_merge.loc[ords_prods_merge['prices'] > 100]"
   ]
  },
  {
   "cell_type": "code",
   "execution_count": 21,
   "id": "level-departure",
   "metadata": {},
   "outputs": [],
   "source": [
    "# Turning high prices into NAN values\n",
    "ords_prods_merge.loc[ords_prods_merge['prices'] >100, 'prices'] = np.nan"
   ]
  },
  {
   "cell_type": "code",
   "execution_count": 22,
   "id": "median-bachelor",
   "metadata": {},
   "outputs": [
    {
     "data": {
      "text/plain": [
       "25.0"
      ]
     },
     "execution_count": 22,
     "metadata": {},
     "output_type": "execute_result"
    }
   ],
   "source": [
    "ords_prods_merge['prices'].max()"
   ]
  },
  {
   "cell_type": "code",
   "execution_count": 23,
   "id": "reverse-laugh",
   "metadata": {},
   "outputs": [
    {
     "data": {
      "image/png": "[encoded data removed]",
      "text/plain": [
       "<Figure size 432x288 with 1 Axes>"
      ]
     },
     "metadata": {
      "needs_background": "light"
     },
     "output_type": "display_data"
    }
   ],
   "source": [
    "# Creating a histogram for the clean data\n",
    "hist= ords_prods_merge['prices'].plot.hist(bins = 25)"
   ]
  },
  {
   "cell_type": "code",
   "execution_count": 24,
   "id": "tight-republic",
   "metadata": {},
   "outputs": [
    {
     "data": {
      "image/png": "[encoded data removed]",
      "text/plain": [
       "<Figure size 432x288 with 1 Axes>"
      ]
     },
     "metadata": {
      "needs_background": "light"
     },
     "output_type": "display_data"
    }
   ],
   "source": [
    "hist_update= ords_prods_merge['prices'].plot.hist(bins = 70)"
   ]
  },
  {
   "cell_type": "code",
   "execution_count": 25,
   "id": "russian-watson",
   "metadata": {},
   "outputs": [],
   "source": [
    "# Saving the histogram locally on the computer\n",
    "hist_update.figure.savefig(os.path.join(path, '04_analysis' , 'visualisations' , 'histogram_update.png'))"
   ]
  },
  {
   "cell_type": "markdown",
   "id": "documentary-karma",
   "metadata": {},
   "source": [
    "# Creating Line Charts/ Sampling Data"
   ]
  },
  {
   "cell_type": "code",
   "execution_count": 26,
   "id": "listed-wages",
   "metadata": {},
   "outputs": [],
   "source": [
    "# Create a list holding True/ False values to the test np.random.rant() <= 0.7\n",
    "np.random.seed(4)\n",
    "dev = np.random.rand(len(ords_prods_merge)) <= 0.7"
   ]
  },
  {
   "cell_type": "code",
   "execution_count": 27,
   "id": "communist-deadline",
   "metadata": {},
   "outputs": [
    {
     "data": {
      "text/plain": [
       "array([False,  True, False, ...,  True, False,  True])"
      ]
     },
     "execution_count": 27,
     "metadata": {},
     "output_type": "execute_result"
    }
   ],
   "source": [
    "dev"
   ]
  },
  {
   "cell_type": "code",
   "execution_count": 28,
   "id": "engaged-filling",
   "metadata": {},
   "outputs": [
    {
     "data": {
      "text/plain": [
       "array([0.79227379, 0.54149571, 0.53109233, 0.3016315 , 0.91662146,\n",
       "       0.90125835, 0.66776966, 0.2148013 , 0.31056132, 0.19891516])"
      ]
     },
     "execution_count": 28,
     "metadata": {},
     "output_type": "execute_result"
    }
   ],
   "source": [
    "np.random.rand(10)"
   ]
  },
  {
   "cell_type": "code",
   "execution_count": 29,
   "id": "caring-vaccine",
   "metadata": {},
   "outputs": [],
   "source": [
    "# Store 70% of the sample in the dataframe big\n",
    "big = ords_prods_merge[dev]"
   ]
  },
  {
   "cell_type": "code",
   "execution_count": 30,
   "id": "vertical-emerald",
   "metadata": {},
   "outputs": [],
   "source": [
    "# Store 30% of the sample in the dataframe small\n",
    "small = ords_prods_merge[~dev]"
   ]
  },
  {
   "cell_type": "code",
   "execution_count": 31,
   "id": "ranking-crash",
   "metadata": {},
   "outputs": [
    {
     "data": {
      "text/plain": [
       "32641268"
      ]
     },
     "execution_count": 31,
     "metadata": {},
     "output_type": "execute_result"
    }
   ],
   "source": [
    "len(ords_prods_merge)"
   ]
  },
  {
   "cell_type": "code",
   "execution_count": 32,
   "id": "unlikely-application",
   "metadata": {},
   "outputs": [
    {
     "data": {
      "text/plain": [
       "32641268"
      ]
     },
     "execution_count": 32,
     "metadata": {},
     "output_type": "execute_result"
    }
   ],
   "source": [
    "len(big) + len (small)"
   ]
  },
  {
   "cell_type": "code",
   "execution_count": 33,
   "id": "balanced-static",
   "metadata": {},
   "outputs": [],
   "source": [
    "# Reducing my sample to only the columns I need for my chart- prices and orders days of the week\n",
    "df_2 = small[['orders_day_of_week','prices']]"
   ]
  },
  {
   "cell_type": "code",
   "execution_count": 34,
   "id": "decreased-cable",
   "metadata": {},
   "outputs": [
    {
     "data": {
      "image/png": "[encoded data removed]",
      "text/plain": [
       "<Figure size 432x288 with 1 Axes>"
      ]
     },
     "metadata": {
      "needs_background": "light"
     },
     "output_type": "display_data"
    }
   ],
   "source": [
    "# Creating the line chart\n",
    "line = sns.lineplot(data = df_2, x = 'orders_day_of_week',y = 'prices')"
   ]
  },
  {
   "cell_type": "code",
   "execution_count": 35,
   "id": "cutting-lewis",
   "metadata": {},
   "outputs": [],
   "source": [
    "# Comparing the line chart df_2 with the entire dataframe line chart\n",
    "df_4 = ords_prods_merge[['orders_day_of_week','prices']]"
   ]
  },
  {
   "cell_type": "code",
   "execution_count": 36,
   "id": "chemical-double",
   "metadata": {},
   "outputs": [
    {
     "data": {
      "image/png": "[encoded data removed]",
      "text/plain": [
       "<Figure size 432x288 with 1 Axes>"
      ]
     },
     "metadata": {
      "needs_background": "light"
     },
     "output_type": "display_data"
    }
   ],
   "source": [
    "line_2 = sns.lineplot(data = df_4, x = 'orders_day_of_week',y = 'prices')"
   ]
  }
 ],
 "metadata": {
  "kernelspec": {
   "display_name": "Python 3",
   "language": "python",
   "name": "python3"
  },
  "language_info": {
   "codemirror_mode": {
    "name": "ipython",
    "version": 3
   },
   "file_extension": ".py",
   "mimetype": "text/x-python",
   "name": "python",
   "nbconvert_exporter": "python",
   "pygments_lexer": "ipython3",
   "version": "3.8.8"
  }
 },
 "nbformat": 4,
 "nbformat_minor": 5
}
