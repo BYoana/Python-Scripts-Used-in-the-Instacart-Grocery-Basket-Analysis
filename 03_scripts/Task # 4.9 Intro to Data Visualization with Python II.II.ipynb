{
 "cells": [
  {
   "cell_type": "markdown",
   "id": "obvious-girlfriend",
   "metadata": {},
   "source": [
    "# Contents\n",
    "1. Importing libraries\n",
    "2. Importing datasets\n",
    "3. Creating a bar chart\n",
    "4. Creating a histogram\n",
    "5. Creating a scatterplot\n",
    "6. Creating a line chart\n",
    "7. Saving my visualisations"
   ]
  },
  {
   "cell_type": "markdown",
   "id": "equal-programming",
   "metadata": {},
   "source": [
    "# Part II"
   ]
  },
  {
   "cell_type": "markdown",
   "id": "vanilla-literacy",
   "metadata": {},
   "source": [
    "# Importing Libraries"
   ]
  },
  {
   "cell_type": "code",
   "execution_count": 1,
   "id": "serious-proceeding",
   "metadata": {},
   "outputs": [],
   "source": [
    "import pandas as pd\n",
    "import numpy as np\n",
    "import os\n",
    "import matplotlib.pyplot as plt\n",
    "import seaborn as sns\n",
    "import scipy"
   ]
  },
  {
   "cell_type": "code",
   "execution_count": 7,
   "id": "accessory-description",
   "metadata": {},
   "outputs": [],
   "source": [
    "# Uploading my new dataset customers\n",
    "final_dataset = pd.read_pickle(r'C:\\Users\\TemporaryAdmin\\Desktop\\yoana_learning\\Data Analytics\\Immension\\tasks\\my_tasks\\part_4\\02_data\\prepared_data\\final_dataset.pkl')"
   ]
  },
  {
   "cell_type": "code",
   "execution_count": 8,
   "id": "configured-nitrogen",
   "metadata": {},
   "outputs": [
    {
     "data": {
      "text/html": [
       "<div>\n",
       "<style scoped>\n",
       "    .dataframe tbody tr th:only-of-type {\n",
       "        vertical-align: middle;\n",
       "    }\n",
       "\n",
       "    .dataframe tbody tr th {\n",
       "        vertical-align: top;\n",
       "    }\n",
       "\n",
       "    .dataframe thead th {\n",
       "        text-align: right;\n",
       "    }\n",
       "</style>\n",
       "<table border=\"1\" class=\"dataframe\">\n",
       "  <thead>\n",
       "    <tr style=\"text-align: right;\">\n",
       "      <th></th>\n",
       "      <th>Unnamed: 0_x</th>\n",
       "      <th>Unnamed: 0.1</th>\n",
       "      <th>order_id</th>\n",
       "      <th>user_id</th>\n",
       "      <th>eval_set</th>\n",
       "      <th>order_number</th>\n",
       "      <th>orders_day_of_week</th>\n",
       "      <th>order_hour_of_day</th>\n",
       "      <th>days_since_prior_order</th>\n",
       "      <th>first_order</th>\n",
       "      <th>...</th>\n",
       "      <th>first_name</th>\n",
       "      <th>last_name</th>\n",
       "      <th>gender</th>\n",
       "      <th>state</th>\n",
       "      <th>age</th>\n",
       "      <th>date_joined</th>\n",
       "      <th>number_dependents</th>\n",
       "      <th>family_status</th>\n",
       "      <th>yearly_income</th>\n",
       "      <th>present</th>\n",
       "    </tr>\n",
       "  </thead>\n",
       "  <tbody>\n",
       "    <tr>\n",
       "      <th>0</th>\n",
       "      <td>0</td>\n",
       "      <td>0</td>\n",
       "      <td>2539329</td>\n",
       "      <td>1</td>\n",
       "      <td>prior</td>\n",
       "      <td>1</td>\n",
       "      <td>2</td>\n",
       "      <td>8</td>\n",
       "      <td>NaN</td>\n",
       "      <td>True</td>\n",
       "      <td>...</td>\n",
       "      <td>Linda</td>\n",
       "      <td>Nguyen</td>\n",
       "      <td>Female</td>\n",
       "      <td>Alabama</td>\n",
       "      <td>31</td>\n",
       "      <td>2/17/2019</td>\n",
       "      <td>3</td>\n",
       "      <td>married</td>\n",
       "      <td>40423</td>\n",
       "      <td>both</td>\n",
       "    </tr>\n",
       "    <tr>\n",
       "      <th>1</th>\n",
       "      <td>0</td>\n",
       "      <td>0</td>\n",
       "      <td>2539329</td>\n",
       "      <td>1</td>\n",
       "      <td>prior</td>\n",
       "      <td>1</td>\n",
       "      <td>2</td>\n",
       "      <td>8</td>\n",
       "      <td>NaN</td>\n",
       "      <td>True</td>\n",
       "      <td>...</td>\n",
       "      <td>Linda</td>\n",
       "      <td>Nguyen</td>\n",
       "      <td>Female</td>\n",
       "      <td>Alabama</td>\n",
       "      <td>31</td>\n",
       "      <td>2/17/2019</td>\n",
       "      <td>3</td>\n",
       "      <td>married</td>\n",
       "      <td>40423</td>\n",
       "      <td>both</td>\n",
       "    </tr>\n",
       "    <tr>\n",
       "      <th>2</th>\n",
       "      <td>0</td>\n",
       "      <td>0</td>\n",
       "      <td>2539329</td>\n",
       "      <td>1</td>\n",
       "      <td>prior</td>\n",
       "      <td>1</td>\n",
       "      <td>2</td>\n",
       "      <td>8</td>\n",
       "      <td>NaN</td>\n",
       "      <td>True</td>\n",
       "      <td>...</td>\n",
       "      <td>Linda</td>\n",
       "      <td>Nguyen</td>\n",
       "      <td>Female</td>\n",
       "      <td>Alabama</td>\n",
       "      <td>31</td>\n",
       "      <td>2/17/2019</td>\n",
       "      <td>3</td>\n",
       "      <td>married</td>\n",
       "      <td>40423</td>\n",
       "      <td>both</td>\n",
       "    </tr>\n",
       "    <tr>\n",
       "      <th>3</th>\n",
       "      <td>0</td>\n",
       "      <td>0</td>\n",
       "      <td>2539329</td>\n",
       "      <td>1</td>\n",
       "      <td>prior</td>\n",
       "      <td>1</td>\n",
       "      <td>2</td>\n",
       "      <td>8</td>\n",
       "      <td>NaN</td>\n",
       "      <td>True</td>\n",
       "      <td>...</td>\n",
       "      <td>Linda</td>\n",
       "      <td>Nguyen</td>\n",
       "      <td>Female</td>\n",
       "      <td>Alabama</td>\n",
       "      <td>31</td>\n",
       "      <td>2/17/2019</td>\n",
       "      <td>3</td>\n",
       "      <td>married</td>\n",
       "      <td>40423</td>\n",
       "      <td>both</td>\n",
       "    </tr>\n",
       "    <tr>\n",
       "      <th>4</th>\n",
       "      <td>0</td>\n",
       "      <td>0</td>\n",
       "      <td>2539329</td>\n",
       "      <td>1</td>\n",
       "      <td>prior</td>\n",
       "      <td>1</td>\n",
       "      <td>2</td>\n",
       "      <td>8</td>\n",
       "      <td>NaN</td>\n",
       "      <td>True</td>\n",
       "      <td>...</td>\n",
       "      <td>Linda</td>\n",
       "      <td>Nguyen</td>\n",
       "      <td>Female</td>\n",
       "      <td>Alabama</td>\n",
       "      <td>31</td>\n",
       "      <td>2/17/2019</td>\n",
       "      <td>3</td>\n",
       "      <td>married</td>\n",
       "      <td>40423</td>\n",
       "      <td>both</td>\n",
       "    </tr>\n",
       "    <tr>\n",
       "      <th>...</th>\n",
       "      <td>...</td>\n",
       "      <td>...</td>\n",
       "      <td>...</td>\n",
       "      <td>...</td>\n",
       "      <td>...</td>\n",
       "      <td>...</td>\n",
       "      <td>...</td>\n",
       "      <td>...</td>\n",
       "      <td>...</td>\n",
       "      <td>...</td>\n",
       "      <td>...</td>\n",
       "      <td>...</td>\n",
       "      <td>...</td>\n",
       "      <td>...</td>\n",
       "      <td>...</td>\n",
       "      <td>...</td>\n",
       "      <td>...</td>\n",
       "      <td>...</td>\n",
       "      <td>...</td>\n",
       "      <td>...</td>\n",
       "      <td>...</td>\n",
       "    </tr>\n",
       "    <tr>\n",
       "      <th>95</th>\n",
       "      <td>14</td>\n",
       "      <td>14</td>\n",
       "      <td>738281</td>\n",
       "      <td>2</td>\n",
       "      <td>prior</td>\n",
       "      <td>4</td>\n",
       "      <td>2</td>\n",
       "      <td>10</td>\n",
       "      <td>8.0</td>\n",
       "      <td>False</td>\n",
       "      <td>...</td>\n",
       "      <td>Norma</td>\n",
       "      <td>Chapman</td>\n",
       "      <td>Female</td>\n",
       "      <td>Alaska</td>\n",
       "      <td>68</td>\n",
       "      <td>7/4/2017</td>\n",
       "      <td>3</td>\n",
       "      <td>married</td>\n",
       "      <td>64940</td>\n",
       "      <td>both</td>\n",
       "    </tr>\n",
       "    <tr>\n",
       "      <th>96</th>\n",
       "      <td>14</td>\n",
       "      <td>14</td>\n",
       "      <td>738281</td>\n",
       "      <td>2</td>\n",
       "      <td>prior</td>\n",
       "      <td>4</td>\n",
       "      <td>2</td>\n",
       "      <td>10</td>\n",
       "      <td>8.0</td>\n",
       "      <td>False</td>\n",
       "      <td>...</td>\n",
       "      <td>Norma</td>\n",
       "      <td>Chapman</td>\n",
       "      <td>Female</td>\n",
       "      <td>Alaska</td>\n",
       "      <td>68</td>\n",
       "      <td>7/4/2017</td>\n",
       "      <td>3</td>\n",
       "      <td>married</td>\n",
       "      <td>64940</td>\n",
       "      <td>both</td>\n",
       "    </tr>\n",
       "    <tr>\n",
       "      <th>97</th>\n",
       "      <td>15</td>\n",
       "      <td>15</td>\n",
       "      <td>1673511</td>\n",
       "      <td>2</td>\n",
       "      <td>prior</td>\n",
       "      <td>5</td>\n",
       "      <td>3</td>\n",
       "      <td>11</td>\n",
       "      <td>8.0</td>\n",
       "      <td>False</td>\n",
       "      <td>...</td>\n",
       "      <td>Norma</td>\n",
       "      <td>Chapman</td>\n",
       "      <td>Female</td>\n",
       "      <td>Alaska</td>\n",
       "      <td>68</td>\n",
       "      <td>7/4/2017</td>\n",
       "      <td>3</td>\n",
       "      <td>married</td>\n",
       "      <td>64940</td>\n",
       "      <td>both</td>\n",
       "    </tr>\n",
       "    <tr>\n",
       "      <th>98</th>\n",
       "      <td>15</td>\n",
       "      <td>15</td>\n",
       "      <td>1673511</td>\n",
       "      <td>2</td>\n",
       "      <td>prior</td>\n",
       "      <td>5</td>\n",
       "      <td>3</td>\n",
       "      <td>11</td>\n",
       "      <td>8.0</td>\n",
       "      <td>False</td>\n",
       "      <td>...</td>\n",
       "      <td>Norma</td>\n",
       "      <td>Chapman</td>\n",
       "      <td>Female</td>\n",
       "      <td>Alaska</td>\n",
       "      <td>68</td>\n",
       "      <td>7/4/2017</td>\n",
       "      <td>3</td>\n",
       "      <td>married</td>\n",
       "      <td>64940</td>\n",
       "      <td>both</td>\n",
       "    </tr>\n",
       "    <tr>\n",
       "      <th>99</th>\n",
       "      <td>15</td>\n",
       "      <td>15</td>\n",
       "      <td>1673511</td>\n",
       "      <td>2</td>\n",
       "      <td>prior</td>\n",
       "      <td>5</td>\n",
       "      <td>3</td>\n",
       "      <td>11</td>\n",
       "      <td>8.0</td>\n",
       "      <td>False</td>\n",
       "      <td>...</td>\n",
       "      <td>Norma</td>\n",
       "      <td>Chapman</td>\n",
       "      <td>Female</td>\n",
       "      <td>Alaska</td>\n",
       "      <td>68</td>\n",
       "      <td>7/4/2017</td>\n",
       "      <td>3</td>\n",
       "      <td>married</td>\n",
       "      <td>64940</td>\n",
       "      <td>both</td>\n",
       "    </tr>\n",
       "  </tbody>\n",
       "</table>\n",
       "<p>100 rows × 40 columns</p>\n",
       "</div>"
      ],
      "text/plain": [
       "    Unnamed: 0_x  Unnamed: 0.1  order_id user_id eval_set  order_number  \\\n",
       "0              0             0   2539329       1    prior             1   \n",
       "1              0             0   2539329       1    prior             1   \n",
       "2              0             0   2539329       1    prior             1   \n",
       "3              0             0   2539329       1    prior             1   \n",
       "4              0             0   2539329       1    prior             1   \n",
       "..           ...           ...       ...     ...      ...           ...   \n",
       "95            14            14    738281       2    prior             4   \n",
       "96            14            14    738281       2    prior             4   \n",
       "97            15            15   1673511       2    prior             5   \n",
       "98            15            15   1673511       2    prior             5   \n",
       "99            15            15   1673511       2    prior             5   \n",
       "\n",
       "    orders_day_of_week  order_hour_of_day  days_since_prior_order  \\\n",
       "0                    2                  8                     NaN   \n",
       "1                    2                  8                     NaN   \n",
       "2                    2                  8                     NaN   \n",
       "3                    2                  8                     NaN   \n",
       "4                    2                  8                     NaN   \n",
       "..                 ...                ...                     ...   \n",
       "95                   2                 10                     8.0   \n",
       "96                   2                 10                     8.0   \n",
       "97                   3                 11                     8.0   \n",
       "98                   3                 11                     8.0   \n",
       "99                   3                 11                     8.0   \n",
       "\n",
       "    first_order  ...  first_name  last_name  gender    state  age date_joined  \\\n",
       "0          True  ...       Linda     Nguyen  Female  Alabama   31   2/17/2019   \n",
       "1          True  ...       Linda     Nguyen  Female  Alabama   31   2/17/2019   \n",
       "2          True  ...       Linda     Nguyen  Female  Alabama   31   2/17/2019   \n",
       "3          True  ...       Linda     Nguyen  Female  Alabama   31   2/17/2019   \n",
       "4          True  ...       Linda     Nguyen  Female  Alabama   31   2/17/2019   \n",
       "..          ...  ...         ...        ...     ...      ...  ...         ...   \n",
       "95        False  ...       Norma    Chapman  Female   Alaska   68    7/4/2017   \n",
       "96        False  ...       Norma    Chapman  Female   Alaska   68    7/4/2017   \n",
       "97        False  ...       Norma    Chapman  Female   Alaska   68    7/4/2017   \n",
       "98        False  ...       Norma    Chapman  Female   Alaska   68    7/4/2017   \n",
       "99        False  ...       Norma    Chapman  Female   Alaska   68    7/4/2017   \n",
       "\n",
       "    number_dependents  family_status  yearly_income present  \n",
       "0                   3        married          40423    both  \n",
       "1                   3        married          40423    both  \n",
       "2                   3        married          40423    both  \n",
       "3                   3        married          40423    both  \n",
       "4                   3        married          40423    both  \n",
       "..                ...            ...            ...     ...  \n",
       "95                  3        married          64940    both  \n",
       "96                  3        married          64940    both  \n",
       "97                  3        married          64940    both  \n",
       "98                  3        married          64940    both  \n",
       "99                  3        married          64940    both  \n",
       "\n",
       "[100 rows x 40 columns]"
      ]
     },
     "execution_count": 8,
     "metadata": {},
     "output_type": "execute_result"
    }
   ],
   "source": [
    "final_dataset.head(100)"
   ]
  },
  {
   "cell_type": "markdown",
   "id": "fundamental-helicopter",
   "metadata": {},
   "source": [
    "# Bar Chart"
   ]
  },
  {
   "cell_type": "code",
   "execution_count": 10,
   "id": "negative-services",
   "metadata": {},
   "outputs": [
    {
     "data": {
      "image/png": "[encoded data removed]",
      "text/plain": [
       "<Figure size 432x288 with 1 Axes>"
      ]
     },
     "metadata": {
      "needs_background": "light"
     },
     "output_type": "display_data"
    }
   ],
   "source": [
    "# Creabating a bar chart for the days of the week. \n",
    "bar = final_dataset['orders_day_of_week'].value_counts().plot.bar(color= ['grey'])"
   ]
  },
  {
   "cell_type": "markdown",
   "id": "missing-depression",
   "metadata": {},
   "source": [
    "# Histogram"
   ]
  },
  {
   "cell_type": "code",
   "execution_count": 11,
   "id": "sustained-kentucky",
   "metadata": {},
   "outputs": [
    {
     "data": {
      "text/plain": [
       "<AxesSubplot:ylabel='Frequency'>"
      ]
     },
     "execution_count": 11,
     "metadata": {},
     "output_type": "execute_result"
    },
    {
     "data": {
      "image/png": "[encoded data removed]",
      "text/plain": [
       "<Figure size 432x288 with 1 Axes>"
      ]
     },
     "metadata": {
      "needs_background": "light"
     },
     "output_type": "display_data"
    }
   ],
   "source": [
    "final_dataset['prices'].plot.hist(bins = 25)"
   ]
  },
  {
   "cell_type": "code",
   "execution_count": 12,
   "id": "virgin-formation",
   "metadata": {},
   "outputs": [
    {
     "data": {
      "text/plain": [
       "count    3.240486e+07\n",
       "mean     1.198023e+01\n",
       "std      4.956554e+02\n",
       "min      1.000000e+00\n",
       "25%      4.200000e+00\n",
       "50%      7.400000e+00\n",
       "75%      1.130000e+01\n",
       "max      9.999900e+04\n",
       "Name: prices, dtype: float64"
      ]
     },
     "execution_count": 12,
     "metadata": {},
     "output_type": "execute_result"
    }
   ],
   "source": [
    "# Checking the data\n",
    "final_dataset['prices'].describe()"
   ]
  },
  {
   "cell_type": "code",
   "execution_count": 13,
   "id": "micro-frederick",
   "metadata": {},
   "outputs": [
    {
     "data": {
      "text/plain": [
       "11.980225638676366"
      ]
     },
     "execution_count": 13,
     "metadata": {},
     "output_type": "execute_result"
    }
   ],
   "source": [
    "final_dataset['prices'].mean()"
   ]
  },
  {
   "cell_type": "code",
   "execution_count": 14,
   "id": "documented-guidance",
   "metadata": {},
   "outputs": [
    {
     "data": {
      "text/plain": [
       "7.4"
      ]
     },
     "execution_count": 14,
     "metadata": {},
     "output_type": "execute_result"
    }
   ],
   "source": [
    "final_dataset['prices'].median()"
   ]
  },
  {
   "cell_type": "code",
   "execution_count": 15,
   "id": "assisted-davis",
   "metadata": {},
   "outputs": [
    {
     "data": {
      "text/plain": [
       "99999.0"
      ]
     },
     "execution_count": 15,
     "metadata": {},
     "output_type": "execute_result"
    }
   ],
   "source": [
    "final_dataset['prices'].max()"
   ]
  },
  {
   "cell_type": "markdown",
   "id": "afraid-sacramento",
   "metadata": {},
   "source": [
    "The reason the histogram has only 1 visible pillar is due to the outliers that we have in the dataset, we can find more details about them using a scatterplot."
   ]
  },
  {
   "cell_type": "markdown",
   "id": "hawaiian-rough",
   "metadata": {},
   "source": [
    "# Scatterplot"
   ]
  },
  {
   "cell_type": "code",
   "execution_count": 48,
   "id": "referenced-vintage",
   "metadata": {},
   "outputs": [
    {
     "data": {
      "image/png": "[encoded data removed]",
      "text/plain": [
       "<Figure size 432x288 with 1 Axes>"
      ]
     },
     "metadata": {
      "needs_background": "light"
     },
     "output_type": "display_data"
    }
   ],
   "source": [
    "# Create a scatterplot\n",
    "scatterplot= sns.scatterplot(x = 'prices', y = 'prices',data = final_dataset)"
   ]
  },
  {
   "cell_type": "code",
   "execution_count": 18,
   "id": "nuclear-aruba",
   "metadata": {},
   "outputs": [
    {
     "data": {
      "text/html": [
       "<div>\n",
       "<style scoped>\n",
       "    .dataframe tbody tr th:only-of-type {\n",
       "        vertical-align: middle;\n",
       "    }\n",
       "\n",
       "    .dataframe tbody tr th {\n",
       "        vertical-align: top;\n",
       "    }\n",
       "\n",
       "    .dataframe thead th {\n",
       "        text-align: right;\n",
       "    }\n",
       "</style>\n",
       "<table border=\"1\" class=\"dataframe\">\n",
       "  <thead>\n",
       "    <tr style=\"text-align: right;\">\n",
       "      <th></th>\n",
       "      <th>Unnamed: 0_x</th>\n",
       "      <th>Unnamed: 0.1</th>\n",
       "      <th>order_id</th>\n",
       "      <th>user_id</th>\n",
       "      <th>eval_set</th>\n",
       "      <th>order_number</th>\n",
       "      <th>orders_day_of_week</th>\n",
       "      <th>order_hour_of_day</th>\n",
       "      <th>days_since_prior_order</th>\n",
       "      <th>first_order</th>\n",
       "      <th>...</th>\n",
       "      <th>first_name</th>\n",
       "      <th>last_name</th>\n",
       "      <th>gender</th>\n",
       "      <th>state</th>\n",
       "      <th>age</th>\n",
       "      <th>date_joined</th>\n",
       "      <th>number_dependents</th>\n",
       "      <th>family_status</th>\n",
       "      <th>yearly_income</th>\n",
       "      <th>present</th>\n",
       "    </tr>\n",
       "  </thead>\n",
       "  <tbody>\n",
       "    <tr>\n",
       "      <th>1592</th>\n",
       "      <td>171</td>\n",
       "      <td>171</td>\n",
       "      <td>912404</td>\n",
       "      <td>17</td>\n",
       "      <td>prior</td>\n",
       "      <td>12</td>\n",
       "      <td>2</td>\n",
       "      <td>14</td>\n",
       "      <td>5.0</td>\n",
       "      <td>False</td>\n",
       "      <td>...</td>\n",
       "      <td>Barbara</td>\n",
       "      <td>Chang</td>\n",
       "      <td>Female</td>\n",
       "      <td>Kansas</td>\n",
       "      <td>39</td>\n",
       "      <td>9/16/2018</td>\n",
       "      <td>3</td>\n",
       "      <td>married</td>\n",
       "      <td>150659</td>\n",
       "      <td>both</td>\n",
       "    </tr>\n",
       "    <tr>\n",
       "      <th>1654</th>\n",
       "      <td>181</td>\n",
       "      <td>181</td>\n",
       "      <td>603376</td>\n",
       "      <td>17</td>\n",
       "      <td>prior</td>\n",
       "      <td>22</td>\n",
       "      <td>6</td>\n",
       "      <td>16</td>\n",
       "      <td>4.0</td>\n",
       "      <td>False</td>\n",
       "      <td>...</td>\n",
       "      <td>Barbara</td>\n",
       "      <td>Chang</td>\n",
       "      <td>Female</td>\n",
       "      <td>Kansas</td>\n",
       "      <td>39</td>\n",
       "      <td>9/16/2018</td>\n",
       "      <td>3</td>\n",
       "      <td>married</td>\n",
       "      <td>150659</td>\n",
       "      <td>both</td>\n",
       "    </tr>\n",
       "    <tr>\n",
       "      <th>16668</th>\n",
       "      <td>1944</td>\n",
       "      <td>1944</td>\n",
       "      <td>3264360</td>\n",
       "      <td>135</td>\n",
       "      <td>prior</td>\n",
       "      <td>2</td>\n",
       "      <td>2</td>\n",
       "      <td>21</td>\n",
       "      <td>13.0</td>\n",
       "      <td>False</td>\n",
       "      <td>...</td>\n",
       "      <td>nan</td>\n",
       "      <td>Chen</td>\n",
       "      <td>Female</td>\n",
       "      <td>Maryland</td>\n",
       "      <td>30</td>\n",
       "      <td>3/19/2017</td>\n",
       "      <td>3</td>\n",
       "      <td>married</td>\n",
       "      <td>120635</td>\n",
       "      <td>both</td>\n",
       "    </tr>\n",
       "    <tr>\n",
       "      <th>16674</th>\n",
       "      <td>1945</td>\n",
       "      <td>1945</td>\n",
       "      <td>892534</td>\n",
       "      <td>135</td>\n",
       "      <td>prior</td>\n",
       "      <td>3</td>\n",
       "      <td>0</td>\n",
       "      <td>8</td>\n",
       "      <td>12.0</td>\n",
       "      <td>False</td>\n",
       "      <td>...</td>\n",
       "      <td>nan</td>\n",
       "      <td>Chen</td>\n",
       "      <td>Female</td>\n",
       "      <td>Maryland</td>\n",
       "      <td>30</td>\n",
       "      <td>3/19/2017</td>\n",
       "      <td>3</td>\n",
       "      <td>married</td>\n",
       "      <td>120635</td>\n",
       "      <td>both</td>\n",
       "    </tr>\n",
       "    <tr>\n",
       "      <th>54053</th>\n",
       "      <td>5708</td>\n",
       "      <td>5708</td>\n",
       "      <td>229704</td>\n",
       "      <td>342</td>\n",
       "      <td>prior</td>\n",
       "      <td>8</td>\n",
       "      <td>1</td>\n",
       "      <td>19</td>\n",
       "      <td>30.0</td>\n",
       "      <td>False</td>\n",
       "      <td>...</td>\n",
       "      <td>Ruby</td>\n",
       "      <td>Bates</td>\n",
       "      <td>Female</td>\n",
       "      <td>Minnesota</td>\n",
       "      <td>56</td>\n",
       "      <td>8/23/2018</td>\n",
       "      <td>2</td>\n",
       "      <td>married</td>\n",
       "      <td>187328</td>\n",
       "      <td>both</td>\n",
       "    </tr>\n",
       "    <tr>\n",
       "      <th>...</th>\n",
       "      <td>...</td>\n",
       "      <td>...</td>\n",
       "      <td>...</td>\n",
       "      <td>...</td>\n",
       "      <td>...</td>\n",
       "      <td>...</td>\n",
       "      <td>...</td>\n",
       "      <td>...</td>\n",
       "      <td>...</td>\n",
       "      <td>...</td>\n",
       "      <td>...</td>\n",
       "      <td>...</td>\n",
       "      <td>...</td>\n",
       "      <td>...</td>\n",
       "      <td>...</td>\n",
       "      <td>...</td>\n",
       "      <td>...</td>\n",
       "      <td>...</td>\n",
       "      <td>...</td>\n",
       "      <td>...</td>\n",
       "      <td>...</td>\n",
       "    </tr>\n",
       "    <tr>\n",
       "      <th>32556283</th>\n",
       "      <td>3411856</td>\n",
       "      <td>3411856</td>\n",
       "      <td>3172853</td>\n",
       "      <td>205650</td>\n",
       "      <td>prior</td>\n",
       "      <td>18</td>\n",
       "      <td>1</td>\n",
       "      <td>9</td>\n",
       "      <td>7.0</td>\n",
       "      <td>False</td>\n",
       "      <td>...</td>\n",
       "      <td>Jeremy</td>\n",
       "      <td>Vang</td>\n",
       "      <td>Male</td>\n",
       "      <td>Kentucky</td>\n",
       "      <td>62</td>\n",
       "      <td>10/2/2017</td>\n",
       "      <td>0</td>\n",
       "      <td>divorced/widowed</td>\n",
       "      <td>302526</td>\n",
       "      <td>both</td>\n",
       "    </tr>\n",
       "    <tr>\n",
       "      <th>32583684</th>\n",
       "      <td>3414691</td>\n",
       "      <td>3414691</td>\n",
       "      <td>2504315</td>\n",
       "      <td>205818</td>\n",
       "      <td>prior</td>\n",
       "      <td>3</td>\n",
       "      <td>5</td>\n",
       "      <td>15</td>\n",
       "      <td>3.0</td>\n",
       "      <td>False</td>\n",
       "      <td>...</td>\n",
       "      <td>James</td>\n",
       "      <td>Hunter</td>\n",
       "      <td>Male</td>\n",
       "      <td>Maryland</td>\n",
       "      <td>60</td>\n",
       "      <td>7/12/2019</td>\n",
       "      <td>1</td>\n",
       "      <td>married</td>\n",
       "      <td>172539</td>\n",
       "      <td>both</td>\n",
       "    </tr>\n",
       "    <tr>\n",
       "      <th>32583694</th>\n",
       "      <td>3414693</td>\n",
       "      <td>3414693</td>\n",
       "      <td>1108388</td>\n",
       "      <td>205818</td>\n",
       "      <td>prior</td>\n",
       "      <td>5</td>\n",
       "      <td>4</td>\n",
       "      <td>5</td>\n",
       "      <td>1.0</td>\n",
       "      <td>False</td>\n",
       "      <td>...</td>\n",
       "      <td>James</td>\n",
       "      <td>Hunter</td>\n",
       "      <td>Male</td>\n",
       "      <td>Maryland</td>\n",
       "      <td>60</td>\n",
       "      <td>7/12/2019</td>\n",
       "      <td>1</td>\n",
       "      <td>married</td>\n",
       "      <td>172539</td>\n",
       "      <td>both</td>\n",
       "    </tr>\n",
       "    <tr>\n",
       "      <th>32616755</th>\n",
       "      <td>3418470</td>\n",
       "      <td>3418470</td>\n",
       "      <td>1916142</td>\n",
       "      <td>206049</td>\n",
       "      <td>prior</td>\n",
       "      <td>1</td>\n",
       "      <td>2</td>\n",
       "      <td>17</td>\n",
       "      <td>NaN</td>\n",
       "      <td>True</td>\n",
       "      <td>...</td>\n",
       "      <td>Louise</td>\n",
       "      <td>Leal</td>\n",
       "      <td>Female</td>\n",
       "      <td>District of Columbia</td>\n",
       "      <td>23</td>\n",
       "      <td>4/26/2019</td>\n",
       "      <td>1</td>\n",
       "      <td>married</td>\n",
       "      <td>169022</td>\n",
       "      <td>both</td>\n",
       "    </tr>\n",
       "    <tr>\n",
       "      <th>32616779</th>\n",
       "      <td>3418473</td>\n",
       "      <td>3418473</td>\n",
       "      <td>379732</td>\n",
       "      <td>206049</td>\n",
       "      <td>prior</td>\n",
       "      <td>4</td>\n",
       "      <td>1</td>\n",
       "      <td>14</td>\n",
       "      <td>5.0</td>\n",
       "      <td>False</td>\n",
       "      <td>...</td>\n",
       "      <td>Louise</td>\n",
       "      <td>Leal</td>\n",
       "      <td>Female</td>\n",
       "      <td>District of Columbia</td>\n",
       "      <td>23</td>\n",
       "      <td>4/26/2019</td>\n",
       "      <td>1</td>\n",
       "      <td>married</td>\n",
       "      <td>169022</td>\n",
       "      <td>both</td>\n",
       "    </tr>\n",
       "  </tbody>\n",
       "</table>\n",
       "<p>5127 rows × 40 columns</p>\n",
       "</div>"
      ],
      "text/plain": [
       "          Unnamed: 0_x  Unnamed: 0.1  order_id user_id eval_set  order_number  \\\n",
       "1592               171           171    912404      17    prior            12   \n",
       "1654               181           181    603376      17    prior            22   \n",
       "16668             1944          1944   3264360     135    prior             2   \n",
       "16674             1945          1945    892534     135    prior             3   \n",
       "54053             5708          5708    229704     342    prior             8   \n",
       "...                ...           ...       ...     ...      ...           ...   \n",
       "32556283       3411856       3411856   3172853  205650    prior            18   \n",
       "32583684       3414691       3414691   2504315  205818    prior             3   \n",
       "32583694       3414693       3414693   1108388  205818    prior             5   \n",
       "32616755       3418470       3418470   1916142  206049    prior             1   \n",
       "32616779       3418473       3418473    379732  206049    prior             4   \n",
       "\n",
       "          orders_day_of_week  order_hour_of_day  days_since_prior_order  \\\n",
       "1592                       2                 14                     5.0   \n",
       "1654                       6                 16                     4.0   \n",
       "16668                      2                 21                    13.0   \n",
       "16674                      0                  8                    12.0   \n",
       "54053                      1                 19                    30.0   \n",
       "...                      ...                ...                     ...   \n",
       "32556283                   1                  9                     7.0   \n",
       "32583684                   5                 15                     3.0   \n",
       "32583694                   4                  5                     1.0   \n",
       "32616755                   2                 17                     NaN   \n",
       "32616779                   1                 14                     5.0   \n",
       "\n",
       "          first_order  ...  first_name  last_name  gender  \\\n",
       "1592            False  ...     Barbara      Chang  Female   \n",
       "1654            False  ...     Barbara      Chang  Female   \n",
       "16668           False  ...         nan       Chen  Female   \n",
       "16674           False  ...         nan       Chen  Female   \n",
       "54053           False  ...        Ruby      Bates  Female   \n",
       "...               ...  ...         ...        ...     ...   \n",
       "32556283        False  ...      Jeremy       Vang    Male   \n",
       "32583684        False  ...       James     Hunter    Male   \n",
       "32583694        False  ...       James     Hunter    Male   \n",
       "32616755         True  ...      Louise       Leal  Female   \n",
       "32616779        False  ...      Louise       Leal  Female   \n",
       "\n",
       "                         state  age date_joined  number_dependents  \\\n",
       "1592                    Kansas   39   9/16/2018                  3   \n",
       "1654                    Kansas   39   9/16/2018                  3   \n",
       "16668                 Maryland   30   3/19/2017                  3   \n",
       "16674                 Maryland   30   3/19/2017                  3   \n",
       "54053                Minnesota   56   8/23/2018                  2   \n",
       "...                        ...  ...         ...                ...   \n",
       "32556283              Kentucky   62   10/2/2017                  0   \n",
       "32583684              Maryland   60   7/12/2019                  1   \n",
       "32583694              Maryland   60   7/12/2019                  1   \n",
       "32616755  District of Columbia   23   4/26/2019                  1   \n",
       "32616779  District of Columbia   23   4/26/2019                  1   \n",
       "\n",
       "             family_status  yearly_income present  \n",
       "1592               married         150659    both  \n",
       "1654               married         150659    both  \n",
       "16668              married         120635    both  \n",
       "16674              married         120635    both  \n",
       "54053              married         187328    both  \n",
       "...                    ...            ...     ...  \n",
       "32556283  divorced/widowed         302526    both  \n",
       "32583684           married         172539    both  \n",
       "32583694           married         172539    both  \n",
       "32616755           married         169022    both  \n",
       "32616779           married         169022    both  \n",
       "\n",
       "[5127 rows x 40 columns]"
      ]
     },
     "execution_count": 18,
     "metadata": {},
     "output_type": "execute_result"
    }
   ],
   "source": [
    "# Identifying outliers\n",
    "final_dataset.loc[final_dataset['prices'] > 100]"
   ]
  },
  {
   "cell_type": "code",
   "execution_count": 19,
   "id": "coordinate-acting",
   "metadata": {},
   "outputs": [],
   "source": [
    "# Turning high prices into NAN values\n",
    "final_dataset.loc[final_dataset['prices'] >100, 'prices'] = np.nan"
   ]
  },
  {
   "cell_type": "code",
   "execution_count": 20,
   "id": "frequent-session",
   "metadata": {},
   "outputs": [
    {
     "data": {
      "text/plain": [
       "25.0"
      ]
     },
     "execution_count": 20,
     "metadata": {},
     "output_type": "execute_result"
    }
   ],
   "source": [
    "final_dataset['prices'].max()"
   ]
  },
  {
   "cell_type": "code",
   "execution_count": 22,
   "id": "funky-folder",
   "metadata": {},
   "outputs": [
    {
     "data": {
      "image/png": "[encoded data removed]",
      "text/plain": [
       "<Figure size 432x288 with 1 Axes>"
      ]
     },
     "metadata": {
      "needs_background": "light"
     },
     "output_type": "display_data"
    }
   ],
   "source": [
    "# Creating a histogram for the clean data\n",
    "hist= final_dataset['prices'].plot.hist(bins = 70)"
   ]
  },
  {
   "cell_type": "markdown",
   "id": "robust-tulsa",
   "metadata": {},
   "source": [
    "# Line Chart"
   ]
  },
  {
   "cell_type": "code",
   "execution_count": 23,
   "id": "flexible-teach",
   "metadata": {},
   "outputs": [],
   "source": [
    "# Create a list holding True/ False values to the test np.random.rant() <= 0.7\n",
    "np.random.seed(4)\n",
    "dev = np.random.rand(len(final_dataset)) <= 0.7"
   ]
  },
  {
   "cell_type": "code",
   "execution_count": 24,
   "id": "effective-musician",
   "metadata": {},
   "outputs": [
    {
     "data": {
      "text/plain": [
       "array([False,  True, False, ...,  True, False,  True])"
      ]
     },
     "execution_count": 24,
     "metadata": {},
     "output_type": "execute_result"
    }
   ],
   "source": [
    "dev"
   ]
  },
  {
   "cell_type": "code",
   "execution_count": 25,
   "id": "acknowledged-burning",
   "metadata": {},
   "outputs": [
    {
     "data": {
      "text/plain": [
       "array([0.79227379, 0.54149571, 0.53109233, 0.3016315 , 0.91662146,\n",
       "       0.90125835, 0.66776966, 0.2148013 , 0.31056132, 0.19891516])"
      ]
     },
     "execution_count": 25,
     "metadata": {},
     "output_type": "execute_result"
    }
   ],
   "source": [
    "np.random.rand(10)"
   ]
  },
  {
   "cell_type": "code",
   "execution_count": 27,
   "id": "north-orlando",
   "metadata": {},
   "outputs": [],
   "source": [
    "# Store 70% of the sample in the dataframe big\n",
    "big = final_dataset[dev]"
   ]
  },
  {
   "cell_type": "code",
   "execution_count": 28,
   "id": "opposite-nursery",
   "metadata": {},
   "outputs": [],
   "source": [
    "# Store 30% of the sample in the dataframe small\n",
    "small = final_dataset[~dev]"
   ]
  },
  {
   "cell_type": "code",
   "execution_count": 30,
   "id": "indirect-validation",
   "metadata": {},
   "outputs": [
    {
     "data": {
      "text/plain": [
       "32641268"
      ]
     },
     "execution_count": 30,
     "metadata": {},
     "output_type": "execute_result"
    }
   ],
   "source": [
    "len(final_dataset)"
   ]
  },
  {
   "cell_type": "code",
   "execution_count": 31,
   "id": "aquatic-interaction",
   "metadata": {},
   "outputs": [
    {
     "data": {
      "text/plain": [
       "32641268"
      ]
     },
     "execution_count": 31,
     "metadata": {},
     "output_type": "execute_result"
    }
   ],
   "source": [
    "len(big) + len (small)"
   ]
  },
  {
   "cell_type": "code",
   "execution_count": 32,
   "id": "raising-dryer",
   "metadata": {},
   "outputs": [],
   "source": [
    "# Reducing my sample to only the columns I need for my chart- prices and orders days of the week\n",
    "line_chart = small[['orders_day_of_week','prices']]"
   ]
  },
  {
   "cell_type": "code",
   "execution_count": 33,
   "id": "copyrighted-philippines",
   "metadata": {},
   "outputs": [
    {
     "data": {
      "image/png": "[encoded data removed]",
      "text/plain": [
       "<Figure size 432x288 with 1 Axes>"
      ]
     },
     "metadata": {
      "needs_background": "light"
     },
     "output_type": "display_data"
    }
   ],
   "source": [
    "# Creating the line chart\n",
    "line = sns.lineplot(data = line_chart, x = 'orders_day_of_week',y = 'prices')"
   ]
  },
  {
   "cell_type": "markdown",
   "id": "healthy-photograph",
   "metadata": {},
   "source": [
    "You need to provide the Instacart senior stakeholders with descriptive findings about sales. Create a histogram of the “order_hour_of_day” column."
   ]
  },
  {
   "cell_type": "code",
   "execution_count": 35,
   "id": "democratic-garlic",
   "metadata": {},
   "outputs": [
    {
     "data": {
      "image/png": "[encoded data removed]",
      "text/plain": [
       "<Figure size 432x288 with 1 Axes>"
      ]
     },
     "metadata": {
      "needs_background": "light"
     },
     "output_type": "display_data"
    }
   ],
   "source": [
    "# Creating a histogram for the “order_hour_of_day” column.\n",
    "hist_sales= final_dataset['order_hour_of_day'].plot.hist(bins = 24)"
   ]
  },
  {
   "cell_type": "markdown",
   "id": "crucial-sigma",
   "metadata": {},
   "source": [
    "In a markdown cell beneath your histogram, describe what the histogram demonstrates:\n",
    "\n",
    "The busiest hours are between 10 and 21h."
   ]
  },
  {
   "cell_type": "markdown",
   "id": "diverse-opening",
   "metadata": {},
   "source": [
    "The marketing team is curious about the distribution of orders among customers in terms of loyalty. Create a bar chart from the “loyalty_flag” column."
   ]
  },
  {
   "cell_type": "code",
   "execution_count": 36,
   "id": "marine-treasure",
   "metadata": {},
   "outputs": [
    {
     "data": {
      "image/png": "[encoded data removed]",
      "text/plain": [
       "<Figure size 432x288 with 1 Axes>"
      ]
     },
     "metadata": {
      "needs_background": "light"
     },
     "output_type": "display_data"
    }
   ],
   "source": [
    "bar_loyalty = final_dataset['loyalty_flag'].value_counts().plot.bar(color= ['grey'])"
   ]
  },
  {
   "cell_type": "markdown",
   "id": "standard-seafood",
   "metadata": {},
   "source": [
    "Check whether there’s a difference in expenditure (the “prices” column) depending on the hour of the day. (Hint: To check this, you need to use an accurate sample for your line chart!)"
   ]
  },
  {
   "cell_type": "code",
   "execution_count": 37,
   "id": "horizontal-helmet",
   "metadata": {},
   "outputs": [],
   "source": [
    "# Create a list holding True/ False values to the test np.random.rant() <= 0.7\n",
    "np.random.seed(4)\n",
    "expenditure = np.random.rand(len(final_dataset)) <= 0.7"
   ]
  },
  {
   "cell_type": "code",
   "execution_count": 38,
   "id": "sudden-thumbnail",
   "metadata": {},
   "outputs": [
    {
     "data": {
      "text/plain": [
       "array([False,  True, False, ...,  True, False,  True])"
      ]
     },
     "execution_count": 38,
     "metadata": {},
     "output_type": "execute_result"
    }
   ],
   "source": [
    "expenditure"
   ]
  },
  {
   "cell_type": "code",
   "execution_count": 39,
   "id": "permanent-binding",
   "metadata": {},
   "outputs": [
    {
     "data": {
      "text/plain": [
       "array([0.79227379, 0.54149571, 0.53109233, 0.3016315 , 0.91662146,\n",
       "       0.90125835, 0.66776966, 0.2148013 , 0.31056132, 0.19891516])"
      ]
     },
     "execution_count": 39,
     "metadata": {},
     "output_type": "execute_result"
    }
   ],
   "source": [
    "np.random.rand(10)"
   ]
  },
  {
   "cell_type": "code",
   "execution_count": 40,
   "id": "divided-shooting",
   "metadata": {},
   "outputs": [],
   "source": [
    "# Store 70% of the sample in the dataframe big\n",
    "big_expenditure = final_dataset[dev]"
   ]
  },
  {
   "cell_type": "code",
   "execution_count": 41,
   "id": "complex-automation",
   "metadata": {},
   "outputs": [],
   "source": [
    "# Store 30% of the sample in the dataframe small\n",
    "small_expenditure = final_dataset[~dev]"
   ]
  },
  {
   "cell_type": "code",
   "execution_count": 42,
   "id": "exposed-heritage",
   "metadata": {},
   "outputs": [
    {
     "data": {
      "text/plain": [
       "32641268"
      ]
     },
     "execution_count": 42,
     "metadata": {},
     "output_type": "execute_result"
    }
   ],
   "source": [
    "len(final_dataset)"
   ]
  },
  {
   "cell_type": "code",
   "execution_count": 43,
   "id": "gorgeous-spectacular",
   "metadata": {},
   "outputs": [
    {
     "data": {
      "text/plain": [
       "32641268"
      ]
     },
     "execution_count": 43,
     "metadata": {},
     "output_type": "execute_result"
    }
   ],
   "source": [
    "len(big_expenditure) + len(small_expenditure)"
   ]
  },
  {
   "cell_type": "code",
   "execution_count": 44,
   "id": "aware-assault",
   "metadata": {},
   "outputs": [],
   "source": [
    "# Reducing my sample to only the columns I need for my chart\n",
    "expenditure_update = small[['order_hour_of_day','prices']]"
   ]
  },
  {
   "cell_type": "code",
   "execution_count": 45,
   "id": "level-member",
   "metadata": {},
   "outputs": [
    {
     "data": {
      "image/png": "[encoded data removed]",
      "text/plain": [
       "<Figure size 432x288 with 1 Axes>"
      ]
     },
     "metadata": {
      "needs_background": "light"
     },
     "output_type": "display_data"
    }
   ],
   "source": [
    "# Creating the line chart\n",
    "line_expenditure = sns.lineplot(data = expenditure_update, x = 'order_hour_of_day',y = 'prices')"
   ]
  },
  {
   "cell_type": "markdown",
   "id": "impressed-dinner",
   "metadata": {},
   "source": [
    "First, determine whether there’s a connection between age and family status by creating a line chart exploring the connections between age and number of dependents."
   ]
  },
  {
   "cell_type": "code",
   "execution_count": 46,
   "id": "unsigned-contest",
   "metadata": {},
   "outputs": [
    {
     "data": {
      "image/png": "[encoded data removed]",
      "text/plain": [
       "<Figure size 432x288 with 1 Axes>"
      ]
     },
     "metadata": {
      "needs_background": "light"
     },
     "output_type": "display_data"
    }
   ],
   "source": [
    "# Creating the line chart\n",
    "line_age_dependents = sns.lineplot(data = final_dataset, x = 'age',y = 'number_dependents')"
   ]
  },
  {
   "cell_type": "code",
   "execution_count": 61,
   "id": "turned-single",
   "metadata": {},
   "outputs": [
    {
     "data": {
      "image/png": "[encoded data removed]",
      "text/plain": [
       "<Figure size 432x288 with 1 Axes>"
      ]
     },
     "metadata": {
      "needs_background": "light"
     },
     "output_type": "display_data"
    }
   ],
   "source": [
    "# Creating the line chart\n",
    "line_dependents_age = sns.lineplot(data = final_dataset, x = 'number_dependents',y = 'age')"
   ]
  },
  {
   "cell_type": "markdown",
   "id": "stable-broadway",
   "metadata": {},
   "source": [
    "In a markdown cell beneath your line chart, describe what the line chart shows:\n",
    "On the second line chart we can see that the adults aged 49-50 years old tend to have the highest number of dependants. "
   ]
  },
  {
   "cell_type": "code",
   "execution_count": 49,
   "id": "brutal-traffic",
   "metadata": {},
   "outputs": [
    {
     "data": {
      "text/plain": [
       "3"
      ]
     },
     "execution_count": 49,
     "metadata": {},
     "output_type": "execute_result"
    }
   ],
   "source": [
    "final_dataset['number_dependents'].max()"
   ]
  },
  {
   "cell_type": "code",
   "execution_count": 50,
   "id": "remarkable-reform",
   "metadata": {},
   "outputs": [
    {
     "data": {
      "text/plain": [
       "1.5018642964482876"
      ]
     },
     "execution_count": 50,
     "metadata": {},
     "output_type": "execute_result"
    }
   ],
   "source": [
    "final_dataset['number_dependents'].mean()"
   ]
  },
  {
   "cell_type": "markdown",
   "id": "indoor-communications",
   "metadata": {},
   "source": [
    "You’ll also need to explore whether there’s a connection between age and spending power. To visualize this relationship, create a scatterplot using the sns.scatterplot() function."
   ]
  },
  {
   "cell_type": "code",
   "execution_count": 47,
   "id": "disciplinary-spokesman",
   "metadata": {
    "scrolled": true
   },
   "outputs": [
    {
     "data": {
      "image/png": "[encoded data removed]",
      "text/plain": [
       "<Figure size 432x288 with 1 Axes>"
      ]
     },
     "metadata": {
      "needs_background": "light"
     },
     "output_type": "display_data"
    }
   ],
   "source": [
    "# Create a scatterplot\n",
    "age_income= sns.scatterplot(x = 'age', y = 'yearly_income',data = final_dataset)"
   ]
  },
  {
   "cell_type": "code",
   "execution_count": null,
   "id": "seven-compiler",
   "metadata": {},
   "outputs": [],
   "source": [
    "In a markdown cell beneath your scatterplot, describe what the scatterplot shows.\n",
    "It seems like the income for people aged between 20 and 40 is significantly more spread- the majority is in the range of 200 000 and there are some outliers reaching to 400 000. \n",
    "The higher the age the higher the income becomes and the higher the outliers are reaching. "
   ]
  },
  {
   "cell_type": "markdown",
   "id": "potential-institution",
   "metadata": {},
   "source": [
    "Export your visualizations as “.png” files in your relevant project folder."
   ]
  },
  {
   "cell_type": "markdown",
   "id": "incredible-relations",
   "metadata": {},
   "source": [
    "# Saving the visualisations"
   ]
  },
  {
   "cell_type": "code",
   "execution_count": 51,
   "id": "assisted-beauty",
   "metadata": {},
   "outputs": [],
   "source": [
    "path= r'C:\\Users\\TemporaryAdmin\\Desktop\\yoana_learning\\Data Analytics\\Immension\\tasks\\my_tasks\\part_4'"
   ]
  },
  {
   "cell_type": "code",
   "execution_count": 52,
   "id": "smaller-publicity",
   "metadata": {},
   "outputs": [],
   "source": [
    "bar.figure.savefig(os.path.join(path, '04_analysis' , 'visualisations' , 'bar_orders_day_of_week.png'))"
   ]
  },
  {
   "cell_type": "code",
   "execution_count": 53,
   "id": "proved-purple",
   "metadata": {},
   "outputs": [],
   "source": [
    "scatterplot.figure.savefig(os.path.join(path, '04_analysis' , 'visualisations' , 'scatterplot.png'))"
   ]
  },
  {
   "cell_type": "code",
   "execution_count": 54,
   "id": "reliable-message",
   "metadata": {},
   "outputs": [],
   "source": [
    "hist.figure.savefig(os.path.join(path, '04_analysis' , 'visualisations' , 'hist.png'))"
   ]
  },
  {
   "cell_type": "code",
   "execution_count": 55,
   "id": "saving-domain",
   "metadata": {},
   "outputs": [],
   "source": [
    "line.figure.savefig(os.path.join(path, '04_analysis' , 'visualisations' , 'line.png'))"
   ]
  },
  {
   "cell_type": "code",
   "execution_count": 56,
   "id": "treated-nursing",
   "metadata": {},
   "outputs": [],
   "source": [
    "hist_sales.figure.savefig(os.path.join(path, '04_analysis' , 'visualisations' , 'hist_sales.png'))"
   ]
  },
  {
   "cell_type": "code",
   "execution_count": 57,
   "id": "taken-mexican",
   "metadata": {},
   "outputs": [],
   "source": [
    "bar_loyalty.figure.savefig(os.path.join(path, '04_analysis' , 'visualisations' , 'bar_loyalty.png'))"
   ]
  },
  {
   "cell_type": "code",
   "execution_count": 58,
   "id": "authorized-delay",
   "metadata": {},
   "outputs": [],
   "source": [
    "line_expenditure.figure.savefig(os.path.join(path, '04_analysis' , 'visualisations' , 'line_expenditure.png'))"
   ]
  },
  {
   "cell_type": "code",
   "execution_count": 59,
   "id": "therapeutic-wyoming",
   "metadata": {},
   "outputs": [],
   "source": [
    "line_age_dependents.figure.savefig(os.path.join(path, '04_analysis' , 'visualisations' , 'line_age_dependents.png'))"
   ]
  },
  {
   "cell_type": "code",
   "execution_count": 60,
   "id": "dietary-bullet",
   "metadata": {},
   "outputs": [],
   "source": [
    "age_income.figure.savefig(os.path.join(path, '04_analysis' , 'visualisations' , 'age_income.png'))"
   ]
  },
  {
   "cell_type": "code",
   "execution_count": 62,
   "id": "friendly-virtue",
   "metadata": {},
   "outputs": [],
   "source": [
    "line_dependents_age.figure.savefig(os.path.join(path, '04_analysis' , 'visualisations' , 'line_dependents_age.png'))"
   ]
  }
 ],
 "metadata": {
  "kernelspec": {
   "display_name": "Python 3",
   "language": "python",
   "name": "python3"
  },
  "language_info": {
   "codemirror_mode": {
    "name": "ipython",
    "version": 3
   },
   "file_extension": ".py",
   "mimetype": "text/x-python",
   "name": "python",
   "nbconvert_exporter": "python",
   "pygments_lexer": "ipython3",
   "version": "3.8.8"
  }
 },
 "nbformat": 4,
 "nbformat_minor": 5
}
