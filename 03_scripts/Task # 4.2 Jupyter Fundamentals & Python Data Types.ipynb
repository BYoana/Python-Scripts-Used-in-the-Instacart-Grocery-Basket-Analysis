{
 "cells": [
  {
   "cell_type": "markdown",
   "id": "laden-passage",
   "metadata": {},
   "source": [
    "# Contents\n",
    "1. Importing libraries\n",
    "2. Navigating Jupter\n",
    "3. Data Types in Python and operations with them +,-,/,*\n",
    "- integers\n",
    "- floating-point numbers\n",
    "- strings\n",
    "4. Bonus task: command that makes a string appear 100 times"
   ]
  },
  {
   "cell_type": "markdown",
   "id": "piano-hotel",
   "metadata": {},
   "source": [
    "# Importing libraries"
   ]
  },
  {
   "cell_type": "code",
   "execution_count": 1,
   "id": "herbal-integral",
   "metadata": {},
   "outputs": [],
   "source": [
    "# Import libraries\n",
    "import pandas as pd\n",
    "import numpy as np\n",
    "import os"
   ]
  },
  {
   "cell_type": "markdown",
   "id": "economic-thumbnail",
   "metadata": {},
   "source": [
    "# Working with Python data types"
   ]
  },
  {
   "cell_type": "code",
   "execution_count": 2,
   "id": "hidden-wesley",
   "metadata": {},
   "outputs": [],
   "source": [
    "x= 20\n",
    "y= 5"
   ]
  },
  {
   "cell_type": "code",
   "execution_count": 3,
   "id": "quantitative-fault",
   "metadata": {},
   "outputs": [
    {
     "data": {
      "text/plain": [
       "100"
      ]
     },
     "execution_count": 3,
     "metadata": {},
     "output_type": "execute_result"
    }
   ],
   "source": [
    "x*y"
   ]
  },
  {
   "cell_type": "code",
   "execution_count": 4,
   "id": "organizational-california",
   "metadata": {},
   "outputs": [],
   "source": [
    "a= 50\n",
    "b= 50"
   ]
  },
  {
   "cell_type": "code",
   "execution_count": 5,
   "id": "sublime-coast",
   "metadata": {},
   "outputs": [
    {
     "data": {
      "text/plain": [
       "100"
      ]
     },
     "execution_count": 5,
     "metadata": {},
     "output_type": "execute_result"
    }
   ],
   "source": [
    "a+b"
   ]
  },
  {
   "cell_type": "code",
   "execution_count": 6,
   "id": "ready-russell",
   "metadata": {},
   "outputs": [],
   "source": [
    "c=200\n",
    "d=2"
   ]
  },
  {
   "cell_type": "code",
   "execution_count": 7,
   "id": "stuffed-thanks",
   "metadata": {},
   "outputs": [
    {
     "data": {
      "text/plain": [
       "100.0"
      ]
     },
     "execution_count": 7,
     "metadata": {},
     "output_type": "execute_result"
    }
   ],
   "source": [
    "c/d"
   ]
  },
  {
   "cell_type": "code",
   "execution_count": 8,
   "id": "juvenile-bench",
   "metadata": {},
   "outputs": [],
   "source": [
    "e= 5.7465\n",
    "f= 7.8574"
   ]
  },
  {
   "cell_type": "code",
   "execution_count": 9,
   "id": "usual-essay",
   "metadata": {},
   "outputs": [
    {
     "data": {
      "text/plain": [
       "0.7313487922213455"
      ]
     },
     "execution_count": 9,
     "metadata": {},
     "output_type": "execute_result"
    }
   ],
   "source": [
    "e/f"
   ]
  },
  {
   "cell_type": "code",
   "execution_count": 10,
   "id": "involved-turtle",
   "metadata": {},
   "outputs": [],
   "source": [
    "g= 'P'\n",
    "h= 'y'\n",
    "i= 't'\n",
    "j= 'h'\n",
    "k= 'o'\n",
    "l= 'n'"
   ]
  },
  {
   "cell_type": "code",
   "execution_count": 11,
   "id": "comprehensive-increase",
   "metadata": {},
   "outputs": [
    {
     "data": {
      "text/plain": [
       "'Python'"
      ]
     },
     "execution_count": 11,
     "metadata": {},
     "output_type": "execute_result"
    }
   ],
   "source": [
    "g+h+i+j+k+l"
   ]
  },
  {
   "cell_type": "code",
   "execution_count": 12,
   "id": "imposed-bernard",
   "metadata": {},
   "outputs": [],
   "source": [
    "m= g+h+i+j+k+l\n",
    "o= ' '\n",
    "p= 'is'\n",
    "q= ' '\n",
    "r= 'fun!'\n",
    "s= ' '\n",
    "t= 'SQL is '\n",
    "u= 'also fun!'\n"
   ]
  },
  {
   "cell_type": "code",
   "execution_count": 13,
   "id": "received-azerbaijan",
   "metadata": {},
   "outputs": [
    {
     "data": {
      "text/plain": [
       "'Python is fun! SQL is also fun!'"
      ]
     },
     "execution_count": 13,
     "metadata": {},
     "output_type": "execute_result"
    }
   ],
   "source": [
    "m+o+p+q+r+s+t+u"
   ]
  },
  {
   "cell_type": "code",
   "execution_count": 14,
   "id": "internal-default",
   "metadata": {},
   "outputs": [],
   "source": [
    "MyString= m+o+p+q+r+s+t+u"
   ]
  },
  {
   "cell_type": "code",
   "execution_count": 15,
   "id": "mediterranean-memory",
   "metadata": {},
   "outputs": [
    {
     "data": {
      "text/plain": [
       "'Python is fun! SQL is also fun!Python is fun! SQL is also fun!Python is fun! SQL is also fun!Python is fun! SQL is also fun!Python is fun! SQL is also fun!Python is fun! SQL is also fun!Python is fun! SQL is also fun!Python is fun! SQL is also fun!Python is fun! SQL is also fun!Python is fun! SQL is also fun!Python is fun! SQL is also fun!Python is fun! SQL is also fun!Python is fun! SQL is also fun!Python is fun! SQL is also fun!Python is fun! SQL is also fun!Python is fun! SQL is also fun!Python is fun! SQL is also fun!Python is fun! SQL is also fun!Python is fun! SQL is also fun!Python is fun! SQL is also fun!Python is fun! SQL is also fun!Python is fun! SQL is also fun!Python is fun! SQL is also fun!Python is fun! SQL is also fun!Python is fun! SQL is also fun!Python is fun! SQL is also fun!Python is fun! SQL is also fun!Python is fun! SQL is also fun!Python is fun! SQL is also fun!Python is fun! SQL is also fun!Python is fun! SQL is also fun!Python is fun! SQL is also fun!Python is fun! SQL is also fun!Python is fun! SQL is also fun!Python is fun! SQL is also fun!Python is fun! SQL is also fun!Python is fun! SQL is also fun!Python is fun! SQL is also fun!Python is fun! SQL is also fun!Python is fun! SQL is also fun!Python is fun! SQL is also fun!Python is fun! SQL is also fun!Python is fun! SQL is also fun!Python is fun! SQL is also fun!Python is fun! SQL is also fun!Python is fun! SQL is also fun!Python is fun! SQL is also fun!Python is fun! SQL is also fun!Python is fun! SQL is also fun!Python is fun! SQL is also fun!Python is fun! SQL is also fun!Python is fun! SQL is also fun!Python is fun! SQL is also fun!Python is fun! SQL is also fun!Python is fun! SQL is also fun!Python is fun! SQL is also fun!Python is fun! SQL is also fun!Python is fun! SQL is also fun!Python is fun! SQL is also fun!Python is fun! SQL is also fun!Python is fun! SQL is also fun!Python is fun! SQL is also fun!Python is fun! SQL is also fun!Python is fun! SQL is also fun!Python is fun! SQL is also fun!Python is fun! SQL is also fun!Python is fun! SQL is also fun!Python is fun! SQL is also fun!Python is fun! SQL is also fun!Python is fun! SQL is also fun!Python is fun! SQL is also fun!Python is fun! SQL is also fun!Python is fun! SQL is also fun!Python is fun! SQL is also fun!Python is fun! SQL is also fun!Python is fun! SQL is also fun!Python is fun! SQL is also fun!Python is fun! SQL is also fun!Python is fun! SQL is also fun!Python is fun! SQL is also fun!Python is fun! SQL is also fun!Python is fun! SQL is also fun!Python is fun! SQL is also fun!Python is fun! SQL is also fun!Python is fun! SQL is also fun!Python is fun! SQL is also fun!Python is fun! SQL is also fun!Python is fun! SQL is also fun!Python is fun! SQL is also fun!Python is fun! SQL is also fun!Python is fun! SQL is also fun!Python is fun! SQL is also fun!Python is fun! SQL is also fun!Python is fun! SQL is also fun!Python is fun! SQL is also fun!Python is fun! SQL is also fun!Python is fun! SQL is also fun!Python is fun! SQL is also fun!Python is fun! SQL is also fun!Python is fun! SQL is also fun!'"
      ]
     },
     "execution_count": 15,
     "metadata": {},
     "output_type": "execute_result"
    }
   ],
   "source": [
    "MyString*100"
   ]
  }
 ],
 "metadata": {
  "kernelspec": {
   "display_name": "Python 3",
   "language": "python",
   "name": "python3"
  },
  "language_info": {
   "codemirror_mode": {
    "name": "ipython",
    "version": 3
   },
   "file_extension": ".py",
   "mimetype": "text/x-python",
   "name": "python",
   "nbconvert_exporter": "python",
   "pygments_lexer": "ipython3",
   "version": "3.8.8"
  }
 },
 "nbformat": 4,
 "nbformat_minor": 5
}
